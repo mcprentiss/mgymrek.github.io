{
 "metadata": {
  "name": ""
 },
 "nbformat": 3,
 "nbformat_minor": 0,
 "worksheets": [
  {
   "cells": [
    {
     "cell_type": "markdown",
     "metadata": {},
     "source": [
      "Available as a [github gist]()\n",
      "\n",
      "A couple weeks ago, I made a small class to [create animated build figures for IPython presentations](http://melissagymrek.com/python/2013/12/13/ipython-presentations-build-figures.html). This a short addendum to that post, this time with animated tables instead of figures. These draw on th [formatted IPython tables](http://melissagymrek.com/python/2014/01/12/ipython-tables.html) that I posted yesterday.\n",
      "\n",
      "The idea here is same with the figures: often when you are presenting a figure or table, using animation to slowly build it up helps you tell the story in a more organized way. Powerpoint is full of options to do this, but I would like to do it programatically in Python.\n",
      "\n",
      "The goal of the animated tables is to make a widget that takes in a formatted table and a list of functions to apply to the table With each click, it applies the next function in succession. This is best illustrated with a short example:"
     ]
    },
    {
     "cell_type": "code",
     "collapsed": false,
     "input": [
      "# TODO example"
     ],
     "language": "python",
     "metadata": {},
     "outputs": []
    },
    {
     "cell_type": "markdown",
     "metadata": {},
     "source": [
      "You can get these in [my forked ipywidgets repository](https://github.com/mgymrek/ipywidgets). You can see more about fun resources for IPython presentations [here](http://melissagymrek.com/ipython_presentation_resources.html)."
     ]
    }
   ],
   "metadata": {}
  }
 ]
}